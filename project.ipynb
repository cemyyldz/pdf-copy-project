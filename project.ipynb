{
  "cells": [
    {
      "cell_type": "markdown",
      "metadata": {
        "id": "view-in-github",
        "colab_type": "text"
      },
      "source": [
        "<a href=\"https://colab.research.google.com/github/cemyyldz/pdf-copy-project/blob/main/project.ipynb\" target=\"_parent\"><img src=\"https://colab.research.google.com/assets/colab-badge.svg\" alt=\"Open In Colab\"/></a>"
      ]
    },
    {
      "cell_type": "markdown",
      "metadata": {
        "id": "ZAQpvTEZXP-l"
      },
      "source": [
        "1. Ortam Kurulumu ve Kütüphane Yükleme\n",
        "Bu bölümde, projenin temel ve destekleyici tüm kütüphaneleri kurulur."
      ]
    },
    {
      "cell_type": "code",
      "execution_count": 17,
      "metadata": {
        "colab": {
          "base_uri": "https://localhost:8080/"
        },
        "id": "iQBo0N-SVR6m",
        "outputId": "7f78a43b-fb25-4ae4-f81b-ff1130ff4834"
      },
      "outputs": [
        {
          "output_type": "stream",
          "name": "stdout",
          "text": [
            "Gerekli ve destekleyici kütüphaneler kuruluyor...\n",
            "Requirement already satisfied: PyPDF2 in /usr/local/lib/python3.12/dist-packages (3.0.1)\n",
            "Requirement already satisfied: pdfminer.six in /usr/local/lib/python3.12/dist-packages (20250506)\n",
            "Requirement already satisfied: reportlab in /usr/local/lib/python3.12/dist-packages (4.4.4)\n",
            "Requirement already satisfied: pdfplumber in /usr/local/lib/python3.12/dist-packages (0.11.7)\n",
            "Requirement already satisfied: Pillow in /usr/local/lib/python3.12/dist-packages (11.3.0)\n",
            "Requirement already satisfied: charset-normalizer>=2.0.0 in /usr/local/lib/python3.12/dist-packages (from pdfminer.six) (3.4.4)\n",
            "Requirement already satisfied: cryptography>=36.0.0 in /usr/local/lib/python3.12/dist-packages (from pdfminer.six) (43.0.3)\n",
            "Requirement already satisfied: pypdfium2>=4.18.0 in /usr/local/lib/python3.12/dist-packages (from pdfplumber) (4.30.0)\n",
            "Requirement already satisfied: cffi>=1.12 in /usr/local/lib/python3.12/dist-packages (from cryptography>=36.0.0->pdfminer.six) (2.0.0)\n",
            "Requirement already satisfied: pycparser in /usr/local/lib/python3.12/dist-packages (from cffi>=1.12->cryptography>=36.0.0->pdfminer.six) (2.23)\n",
            "Kurulum tamamlandı. Çalışma zamanının yeniden başlatılması gerekebilir.\n"
          ]
        }
      ],
      "source": [
        "# Ortam Kurulumu: Gerekli ve Destekleyici Kütüphaneler\n",
        "print(\"Gerekli ve destekleyici kütüphaneler kuruluyor...\")\n",
        "!pip install PyPDF2 pdfminer.six reportlab pdfplumber Pillow\n",
        "print(\"Kurulum tamamlandı. Çalışma zamanının yeniden başlatılması gerekebilir.\")\n",
        "\n",
        "# Gerekli tüm modülleri içe aktarma\n",
        "import os\n",
        "import shutil\n",
        "from PyPDF2 import PdfReader\n",
        "from PIL import Image\n",
        "import io\n",
        "import re\n",
        "import pdfplumber\n",
        "\n",
        "# pdfminer ve ReportLab içe aktarımları\n",
        "from pdfminer.layout import LTTextContainer, LTTextLine, LTChar, LTLine, LTRect\n",
        "from pdfminer.pdfpage import PDFPage\n",
        "from pdfminer.pdfinterp import PDFResourceManager, PDFPageInterpreter\n",
        "from pdfminer.converter import PDFPageAggregator\n",
        "from pdfminer.layout import LAParams\n",
        "from reportlab.pdfgen import canvas\n",
        "from reportlab.lib.colors import black\n",
        "from reportlab.pdfbase.pdfmetrics import stringWidth\n",
        "\n",
        "# Sabitler\n",
        "PDF_INPUT_FILE = \"file.pdf\"\n",
        "PDF_OUTPUT_FILE = \"output.pdf\""
      ]
    },
    {
      "cell_type": "markdown",
      "metadata": {
        "id": "sMPIBW1jXUaD"
      },
      "source": [
        "2. Aşama: Yapısal Veri Çıkarımı (Metin, Şekil ve Görsel)Bu aşamada, PDF'ten metin koordinatları (pdfminer.six) ve görseller (pdfplumber) dahil olmak üzere tüm yapısal veriler tek bir project_data yapısına çıkarılır. Görsel konumlandırma sorunlarını çözmek için y ekseni düzeltmeleri bu kısımda yapılır."
      ]
    },
    {
      "cell_type": "code",
      "execution_count": 18,
      "metadata": {
        "id": "UHCLIOSiVfFV"
      },
      "outputs": [],
      "source": [
        "# Global veri yapısı ve sayfa boyutları\n",
        "# PDF içerisinden çıkarılan tüm verileri saklamak için bir sözlük oluşturuyoruz.\n",
        "# 'text_blocks' -> metin blokları, 'lines' -> çizgiler, 'rects' -> dikdörtgenler, 'images' -> görseller.\n",
        "project_data = {'text_blocks': [], 'lines': [], 'rects': [], 'images': []}\n",
        "\n",
        "# Sayfa genişliği ve yüksekliği global değişkenler olarak tanımlanıyor.\n",
        "page_w, page_h = 0, 0\n",
        "\n",
        "# Font Eşleştirme Sözlüğü\n",
        "# PDF'deki font isimlerini ReportLab'ta kullanılacak standart font isimleriyle eşleştiriyoruz.\n",
        "FONT_MAPPING = {\n",
        "    'REGULAR': 'Helvetica', 'PRO-REGULAR': 'Helvetica',\n",
        "    'BOLD': 'Helvetica-Bold', 'PRO-BOLD': 'Helvetica-Bold',\n",
        "    'ITALIC': 'Helvetica-Oblique', 'PRO-ITALIC': 'Helvetica-Oblique',\n",
        "    'ARIALMT': 'Helvetica', 'TIMESNEWROMAN': 'Times-Roman', 'COURIER': 'Courier',\n",
        "}\n",
        "\n",
        "def get_page_dimensions(file_path):\n",
        "    \"\"\"PyPDF2 ile sayfa boyutlarını alır.\"\"\"\n",
        "    global page_w, page_h\n",
        "    try:\n",
        "        # PDF dosyasını oku\n",
        "        reader = PdfReader(file_path)\n",
        "        # İlk sayfayı seç\n",
        "        page = reader.pages[0]\n",
        "        # Sayfanın mediabox'ını al ve genişlik-yükseklik değerlerini ata\n",
        "        media_box = page.mediabox\n",
        "        page_w, page_h = float(media_box.width), float(media_box.height)\n",
        "        return True\n",
        "    except Exception as e:\n",
        "        # Hata oluşursa False döndür\n",
        "        return False\n",
        "\n",
        "def extract_all_structural_elements(file_path):\n",
        "    \"\"\"pdfminer.six ile metin, çizgi ve dikdörtgen verilerini çıkarır.\"\"\"\n",
        "    # PDF kaynak yöneticisi ve parametreleri ayarla\n",
        "    rsrcmgr = PDFResourceManager()\n",
        "    laparams = LAParams(line_overlap=0.5, char_margin=2.0, word_margin=0.1, line_margin=0.5, boxes_flow=0.5, detect_vertical=False)\n",
        "    device = PDFPageAggregator(rsrcmgr, laparams=laparams)\n",
        "    interpreter = PDFPageInterpreter(rsrcmgr, device)\n",
        "\n",
        "    try:\n",
        "        with open(file_path, 'rb') as fp:\n",
        "            # PDF'deki her sayfa için işlemi tekrarla\n",
        "            for page in PDFPage.get_pages(fp):\n",
        "                interpreter.process_page(page)\n",
        "                layout = device.get_result()  # Sayfanın tüm yapısını al\n",
        "                for element in layout:\n",
        "                    # Metin konteyneri varsa\n",
        "                    if isinstance(element, LTTextContainer):\n",
        "                        for text_line in element:\n",
        "                            if isinstance(text_line, LTTextLine):\n",
        "                                current_text = \"\"\n",
        "                                last_char_data = None\n",
        "                                for character in text_line:\n",
        "                                    if isinstance(character, LTChar):\n",
        "                                        current_text += character.get_text()  # Metni topla\n",
        "                                        if last_char_data is None:\n",
        "                                            # Font ve konum bilgilerini al\n",
        "                                            last_char_data = {'x': character.bbox[0], 'y': character.bbox[1], 'font': character.fontname, 'size': character.size}\n",
        "                                if current_text and last_char_data:\n",
        "                                    # Metin ve font bilgisini proje veri yapısına ekle\n",
        "                                    data = last_char_data\n",
        "                                    data['text'] = current_text\n",
        "                                    project_data['text_blocks'].append(data)\n",
        "                    # Çizgi elemanı varsa\n",
        "                    elif isinstance(element, LTLine):\n",
        "                        project_data['lines'].append({'x0': element.bbox[0], 'y0': element.bbox[1], 'x1': element.bbox[2], 'y1': element.bbox[3], 'width': element.linewidth })\n",
        "                    # Dikdörtgen elemanı varsa\n",
        "                    elif isinstance(element, LTRect):\n",
        "                        project_data['rects'].append({'x0': element.bbox[0], 'y0': element.bbox[1], 'x1': element.bbox[2], 'y1': element.bbox[3], 'width': element.linewidth })\n",
        "    except Exception as e:\n",
        "        print(f\"pdfminer.six ile veri çıkarılırken hata: {e}\")\n",
        "\n",
        "def extract_images_with_pdfplumber(file_path):\n",
        "    \"\"\"pdfplumber ile görselleri çıkarır, ReportLab için dikey çevirir ve Y koordinatını hesaplar.\"\"\"\n",
        "\n",
        "    # Geçici görsellerin saklanacağı klasörü oluştur\n",
        "    temp_dir = 'temp_images'\n",
        "    os.makedirs(temp_dir, exist_ok=True)\n",
        "\n",
        "    try:\n",
        "        with pdfplumber.open(file_path) as pdf:\n",
        "            page = pdf.pages[0]  # İlk sayfayı al\n",
        "\n",
        "            for img_data in page.images:\n",
        "                x0, y0, x1, y1 = img_data['x0'], img_data['y0'], img_data['x1'], img_data['y1']\n",
        "\n",
        "                # Görsel stream olarak varsa işle\n",
        "                if 'stream' in img_data:\n",
        "                    img_bytes = img_data['stream'].get_data()  # Görseli byte olarak al\n",
        "                    temp_filename = os.path.join(temp_dir, f\"img_{len(project_data['images'])}.png\")\n",
        "\n",
        "                    image = Image.open(io.BytesIO(img_bytes))\n",
        "\n",
        "                    # ReportLab koordinat sistemine uyum için dikey çevir\n",
        "                    image = image.transpose(Image.FLIP_TOP_BOTTOM)\n",
        "                    image.save(temp_filename)  # Geçici dosyaya kaydet\n",
        "\n",
        "                    # Y koordinatını ReportLab sistemine göre ayarla\n",
        "                    y_reportlab = y0\n",
        "\n",
        "                    # Görsel bilgilerini proje veri yapısına ekle\n",
        "                    project_data['images'].append({\n",
        "                        'x': x0,\n",
        "                        'y': y_reportlab,\n",
        "                        'width': x1 - x0,\n",
        "                        'height': y1 - y0,\n",
        "                        'file': temp_filename\n",
        "                    })\n",
        "\n",
        "    except Exception as e:\n",
        "        print(f\"pdfplumber ile görsel çıkarılırken hata: {e}\")\n"
      ]
    },
    {
      "cell_type": "markdown",
      "metadata": {
        "id": "GG_YpHQSXdNQ"
      },
      "source": [
        "3. Aşama: ReportLab ile Birebir Üretim\n",
        "Bu fonksiyon, çıkarılan tüm veriyi kullanarak hedef output.pdf dosyasını oluşturur. Output oluşturulurken dikdörtgen şekil üzerinden oluşturulmuştur.Sonrasında sağ ve sol çizgisini kaldırarak esas görünüm elde edilmiştir"
      ]
    },
    {
      "cell_type": "code",
      "execution_count": 19,
      "metadata": {
        "id": "uflQR0yEVuGD"
      },
      "outputs": [],
      "source": [
        "# ReportLab Üretimi\n",
        "def create_output_pdf(output_file):\n",
        "    \"\"\"project_data içindeki metin, çizgi, dikdörtgen ve görselleri birebir konumlarıyla yeni bir PDF'e çizer.\"\"\"\n",
        "\n",
        "    # Canvas oluştur: sayfa boyutu daha önce get_page_dimensions ile alınmış olan page_w, page_h\n",
        "    c = canvas.Canvas(output_file, pagesize=(page_w, page_h))\n",
        "\n",
        "    # Çizgi renklerini siyah olarak ayarla\n",
        "    c.setStrokeColor(black)\n",
        "\n",
        "\n",
        "    FIXED_LINE_WIDTH = 1.5  # tüm çizgiler için sabit ve biraz kalın\n",
        "    c.setLineWidth(FIXED_LINE_WIDTH)\n",
        "\n",
        "    # --- Tüm çizgi nesneleri (LTLine) ---\n",
        "    for line in project_data.get('lines', []):\n",
        "        c.line(line['x0'], line['y0'], line['x1'], line['y1'])\n",
        "\n",
        "    # --- Tüm dikdörtgenlerden gelen çizgiler (LTRect) ---\n",
        "    for rect in project_data.get('rects', []):\n",
        "        x0, y0, x1, y1 = rect['x0'], rect['y0'], rect['x1'], rect['y1']\n",
        "\n",
        "        # Dikdörtgenin üst ve alt kenarını çizgi gibi çiz\n",
        "        c.line(x0, y1, x1, y1)  # üst kenar\n",
        "        c.line(x0, y0, x1, y0)  # alt kenar\n",
        "\n",
        "\n",
        "    # ---- Görselleri Çizme ----\n",
        "    for img in project_data.get('images', []):\n",
        "        try:\n",
        "            # Daha önce hesaplanan X, Y, width ve height değerleri ile görseli yerleştir\n",
        "            # mask='auto': şeffaflık varsa uygula\n",
        "            c.drawImage(\n",
        "                img['file'],\n",
        "                img['x'],\n",
        "                img['y'],  # Y koordinatı zaten dikey çeviri ile düzeltildi\n",
        "                width=img['width'],\n",
        "                height=img['height'],\n",
        "                mask='auto'\n",
        "            )\n",
        "        except Exception as e:\n",
        "            print(f\"Görsel çiziminde hata (X: {img['x']:.2f}, Y: {img['y']:.2f}): {e}\") #Hata durumunda belirt\n",
        "\n",
        "    # ---- Metin Bloklarını Çizme ----\n",
        "    for block in project_data.get('text_blocks', []):\n",
        "        x, y, font_name, font_size, text = block['x'], block['y'], block['font'], block['size'], block['text']\n",
        "\n",
        "        # ReportLab için güvenli font ismi seç\n",
        "        reportlab_font = 'Helvetica'  # Varsayılan font\n",
        "        normalized_name = font_name.upper()\n",
        "        # FONT_MAPPING ile PDF'deki fontu ReportLab fontuna eşleştir\n",
        "        for key, value in FONT_MAPPING.items():\n",
        "            if key in normalized_name:\n",
        "                reportlab_font = value\n",
        "                break\n",
        "\n",
        "        c.setFont(reportlab_font, font_size)  # Font ve boyutu ayarla\n",
        "        c.drawString(x, y, text)  # Metni çiz\n",
        "\n",
        "    # ---- PDF'i Kaydetme ve Geçici Görselleri Temizleme ----\n",
        "    c.save()  # PDF'i kaydet\n",
        "    shutil.rmtree('temp_images', ignore_errors=True)  # temp_images klasörünü sil\n",
        "    return output_file  # Oluşturulan PDF dosya yolunu döndür\n"
      ]
    },
    {
      "cell_type": "markdown",
      "metadata": {
        "id": "zIhZdixAXhii"
      },
      "source": [
        "4. Sonuç ve Çalıştırma Akışı\n",
        "Bu son kod bloğu, tüm adımları sırayla çağırır ve sonucu gösterir."
      ]
    },
    {
      "cell_type": "code",
      "execution_count": 20,
      "metadata": {
        "colab": {
          "base_uri": "https://localhost:8080/",
          "height": 191
        },
        "id": "S07x0d_mV6lQ",
        "outputId": "7f82a7f2-043e-4279-9842-74d022aa05dd"
      },
      "outputs": [
        {
          "output_type": "stream",
          "name": "stdout",
          "text": [
            "--- BAŞLANGIÇ: file.pdf ANALİZİ ---\n",
            "✅ VERİ ÇIKARIMI BAŞARILI.\n",
            "   Sayfa Boyutları: 595.50 x 842.25\n",
            "   Metin Bloğu Sayısı: 41\n",
            "   Görsel Sayısı (Yıldızlar): 2\n",
            "\n",
            "--- REPORTLAB İLE BİREBİR ÜRETİM BAŞLIYOR ---\n",
            "\n",
            "🏆 PROJE TAMAMLANDI: 'output.pdf' başarıyla üretildi.\n",
            "Lütfen oluşan 'output.pdf' dosyasını orijinali ile görsel olarak karşılaştırın.\n"
          ]
        },
        {
          "output_type": "display_data",
          "data": {
            "text/plain": [
              "<IPython.core.display.Javascript object>"
            ],
            "application/javascript": [
              "\n",
              "    async function download(id, filename, size) {\n",
              "      if (!google.colab.kernel.accessAllowed) {\n",
              "        return;\n",
              "      }\n",
              "      const div = document.createElement('div');\n",
              "      const label = document.createElement('label');\n",
              "      label.textContent = `Downloading \"${filename}\": `;\n",
              "      div.appendChild(label);\n",
              "      const progress = document.createElement('progress');\n",
              "      progress.max = size;\n",
              "      div.appendChild(progress);\n",
              "      document.body.appendChild(div);\n",
              "\n",
              "      const buffers = [];\n",
              "      let downloaded = 0;\n",
              "\n",
              "      const channel = await google.colab.kernel.comms.open(id);\n",
              "      // Send a message to notify the kernel that we're ready.\n",
              "      channel.send({})\n",
              "\n",
              "      for await (const message of channel.messages) {\n",
              "        // Send a message to notify the kernel that we're ready.\n",
              "        channel.send({})\n",
              "        if (message.buffers) {\n",
              "          for (const buffer of message.buffers) {\n",
              "            buffers.push(buffer);\n",
              "            downloaded += buffer.byteLength;\n",
              "            progress.value = downloaded;\n",
              "          }\n",
              "        }\n",
              "      }\n",
              "      const blob = new Blob(buffers, {type: 'application/binary'});\n",
              "      const a = document.createElement('a');\n",
              "      a.href = window.URL.createObjectURL(blob);\n",
              "      a.download = filename;\n",
              "      div.appendChild(a);\n",
              "      a.click();\n",
              "      div.remove();\n",
              "    }\n",
              "  "
            ]
          },
          "metadata": {}
        },
        {
          "output_type": "display_data",
          "data": {
            "text/plain": [
              "<IPython.core.display.Javascript object>"
            ],
            "application/javascript": [
              "download(\"download_15abb67f-45b9-4485-a7d2-5c59ca7f7425\", \"output.pdf\", 64221)"
            ]
          },
          "metadata": {}
        }
      ],
      "source": [
        "# SONUÇ BLOKU: TÜM SÜRECİ ÇALIŞTIRMA\n",
        "\n",
        "print(\"--- BAŞLANGIÇ: file.pdf ANALİZİ ---\")\n",
        "\n",
        "# 1️⃣ PDF sayfa boyutlarını al\n",
        "if get_page_dimensions(PDF_INPUT_FILE):\n",
        "    # 2️⃣ Metin, çizgi ve dikdörtgenleri çıkar\n",
        "    extract_all_structural_elements(PDF_INPUT_FILE)\n",
        "    # 3️⃣ Görselleri çıkar\n",
        "    extract_images_with_pdfplumber(PDF_INPUT_FILE)\n",
        "\n",
        "    # Sayfa boyutları başarılı bir şekilde alındıysa\n",
        "    if page_w != 0 and page_h != 0:\n",
        "        print(f\"✅ VERİ ÇIKARIMI BAŞARILI.\")\n",
        "        print(f\"   Sayfa Boyutları: {page_w:.2f} x {page_h:.2f}\")\n",
        "        print(f\"   Metin Bloğu Sayısı: {len(project_data['text_blocks'])}\")\n",
        "        print(f\"   Görsel Sayısı (Yıldızlar): {len(project_data['images'])}\")\n",
        "\n",
        "        print(\"\\n--- REPORTLAB İLE BİREBİR ÜRETİM BAŞLIYOR ---\")\n",
        "        try:\n",
        "            # 4️⃣ Extract edilen verilerle birebir PDF üret\n",
        "            output_file_name = create_output_pdf(PDF_OUTPUT_FILE)\n",
        "\n",
        "            print(f\"\\n🏆 PROJE TAMAMLANDI: '{output_file_name}' başarıyla üretildi.\")\n",
        "            print(\"Lütfen oluşan 'output.pdf' dosyasını orijinali ile görsel olarak karşılaştırın.\")\n",
        "\n",
        "            # 5️⃣ Colab ortamında çıktı dosyasını indirmek için\n",
        "            from google.colab import files\n",
        "            files.download(output_file_name)\n",
        "\n",
        "        except Exception as e:\n",
        "            # PDF üretimi sırasında kritik hata olursa bildir\n",
        "            print(f\"❌ HATA: PDF üretimi sırasında kritik hata: {e}\")\n",
        "    else:\n",
        "        # Sayfa boyutları alınamadıysa uyarı\n",
        "        print(\"❌ HATA: Boyutlar alınamadı.\")\n",
        "else:\n",
        "    # PDF dosyası bulunamadı veya açılamadıysa uyarı\n",
        "    print(\"❌ HATA: Dosya bulunamadı veya okunamadı. Lütfen 'file.pdf'i yükleyin.\")\n"
      ]
    },
    {
      "cell_type": "code",
      "execution_count": null,
      "metadata": {
        "id": "dhl13IQZWAGY"
      },
      "outputs": [],
      "source": []
    }
  ],
  "metadata": {
    "colab": {
      "provenance": [],
      "include_colab_link": true
    },
    "kernelspec": {
      "display_name": "Python 3",
      "name": "python3"
    },
    "language_info": {
      "name": "python"
    }
  },
  "nbformat": 4,
  "nbformat_minor": 0
}