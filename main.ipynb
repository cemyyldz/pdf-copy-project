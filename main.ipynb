{
  "nbformat": 4,
  "nbformat_minor": 0,
  "metadata": {
    "colab": {
      "provenance": [],
      "authorship_tag": "ABX9TyOZ7l557LAviBq6DUwRnZ3e",
      "include_colab_link": true
    },
    "kernelspec": {
      "name": "python3",
      "display_name": "Python 3"
    },
    "language_info": {
      "name": "python"
    }
  },
  "cells": [
    {
      "cell_type": "markdown",
      "metadata": {
        "id": "view-in-github",
        "colab_type": "text"
      },
      "source": [
        "<a href=\"https://colab.research.google.com/github/cemyyldz/pdf-copy-project/blob/main/main.ipynb\" target=\"_parent\"><img src=\"https://colab.research.google.com/assets/colab-badge.svg\" alt=\"Open In Colab\"/></a>"
      ]
    },
    {
      "cell_type": "markdown",
      "source": [
        "1. Ortam Kurulumu ve Kütüphane Yükleme\n",
        "Bu bölümde, projenin temel ve destekleyici tüm kütüphaneleri kurulur. Birebir (Senile) replikasyon için, görsel çıkarımı (pdfplumber) ve görsel manipülasyonu (Pillow) sağlayan destekleyici kütüphaneler eklenmiştir."
      ],
      "metadata": {
        "id": "toqlnYLQWY_P"
      }
    },
    {
      "cell_type": "code",
      "source": [
        "\n",
        "import os\n",
        "print(\"Gerekli tüm kütüphaneler kuruluyor...\")\n",
        "!pip install PyPDF2 pdfminer.six reportlab pdfplumber Pillow\n",
        "print(\"Kurulum tamamlandı.\")\n"
      ],
      "metadata": {
        "colab": {
          "base_uri": "https://localhost:8080/"
        },
        "id": "-IEpLK5EIHvF",
        "outputId": "ec4a7ee0-307c-495d-cf32-6ec1b1330726"
      },
      "execution_count": null,
      "outputs": [
        {
          "output_type": "stream",
          "name": "stdout",
          "text": [
            "Gerekli tüm kütüphaneler kuruluyor...\n",
            "Requirement already satisfied: PyPDF2 in /usr/local/lib/python3.12/dist-packages (3.0.1)\n",
            "Requirement already satisfied: pdfminer.six in /usr/local/lib/python3.12/dist-packages (20250506)\n",
            "Requirement already satisfied: reportlab in /usr/local/lib/python3.12/dist-packages (4.4.4)\n",
            "Requirement already satisfied: pdfplumber in /usr/local/lib/python3.12/dist-packages (0.11.7)\n",
            "Requirement already satisfied: Pillow in /usr/local/lib/python3.12/dist-packages (11.3.0)\n",
            "Requirement already satisfied: charset-normalizer>=2.0.0 in /usr/local/lib/python3.12/dist-packages (from pdfminer.six) (3.4.4)\n",
            "Requirement already satisfied: cryptography>=36.0.0 in /usr/local/lib/python3.12/dist-packages (from pdfminer.six) (43.0.3)\n",
            "Requirement already satisfied: pypdfium2>=4.18.0 in /usr/local/lib/python3.12/dist-packages (from pdfplumber) (4.30.0)\n",
            "Requirement already satisfied: cffi>=1.12 in /usr/local/lib/python3.12/dist-packages (from cryptography>=36.0.0->pdfminer.six) (2.0.0)\n",
            "Requirement already satisfied: pycparser in /usr/local/lib/python3.12/dist-packages (from cffi>=1.12->cryptography>=36.0.0->pdfminer.six) (2.23)\n",
            "Kurulum tamamlandı.\n"
          ]
        }
      ]
    },
    {
      "cell_type": "markdown",
      "source": [
        "2. Aşama: Yapısal Veri Çıkarımı (Metin, Şekil ve Görsel)Bu aşamada, PDF'ten metin koordinatları (pdfminer.six) ve görseller (pdfplumber) dahil olmak üzere tüm yapısal veriler tek bir project_data yapısına çıkarılır. Görsel konumlandırma sorunlarını çözmek için y ekseni düzeltmeleri bu kısımda yapılır."
      ],
      "metadata": {
        "id": "PYRNT0xXW3r9"
      }
    },
    {
      "cell_type": "code",
      "source": [
        "\n",
        "import os\n",
        "from PyPDF2 import PdfReader\n",
        "from PIL import Image\n",
        "import io\n",
        "import re\n",
        "import shutil\n",
        "\n",
        "from pdfminer.layout import LTTextContainer, LTTextLine, LTChar, LTLine, LTRect\n",
        "from pdfminer.pdfpage import PDFPage\n",
        "from pdfminer.pdfinterp import PDFResourceManager, PDFPageInterpreter\n",
        "from pdfminer.converter import PDFPageAggregator\n",
        "from pdfminer.layout import LAParams\n",
        "from reportlab.pdfgen import canvas\n",
        "from reportlab.lib.colors import black\n",
        "import pdfplumber\n",
        "\n",
        "PDF_INPUT_FILE = \"file.pdf\"\n",
        "PDF_OUTPUT_FILE = \"output_birebir_FINAL_V6.pdf\" # Yeni dosya adı\n",
        "\n",
        "project_data = {'text_blocks': [], 'lines': [], 'rects': [], 'images': []}\n",
        "page_w, page_h = 0, 0\n",
        "\n",
        "FONT_MAPPING = {\n",
        "    'REGULAR': 'Helvetica', 'PRO-REGULAR': 'Helvetica',\n",
        "    'BOLD': 'Helvetica-Bold', 'PRO-BOLD': 'Helvetica-Bold',\n",
        "    'ITALIC': 'Helvetica-Oblique', 'PRO-ITALIC': 'Helvetica-Oblique',\n",
        "    'ARIALMT': 'Helvetica', 'TIMESNEWROMAN': 'Times-Roman', 'COURIER': 'Courier',\n",
        "}\n",
        "\n",
        "\n",
        "def get_page_dimensions(file_path):\n",
        "    global page_w, page_h\n",
        "    try:\n",
        "        reader = PdfReader(file_path)\n",
        "        page = reader.pages[0]\n",
        "        media_box = page.mediabox\n",
        "        page_w, page_h = float(media_box.width), float(media_box.height)\n",
        "        return True\n",
        "    except Exception as e:\n",
        "        return False\n",
        "\n",
        "def extract_all_structural_elements(file_path):\n",
        "    rsrcmgr = PDFResourceManager()\n",
        "    laparams = LAParams(line_overlap=0.5, char_margin=2.0, word_margin=0.1, line_margin=0.5, boxes_flow=0.5, detect_vertical=False)\n",
        "    device = PDFPageAggregator(rsrcmgr, laparams=laparams)\n",
        "    interpreter = PDFPageInterpreter(rsrcmgr, device)\n",
        "\n",
        "    try:\n",
        "        with open(file_path, 'rb') as fp:\n",
        "            for page in PDFPage.get_pages(fp):\n",
        "                interpreter.process_page(page)\n",
        "                layout = device.get_result()\n",
        "                for element in layout:\n",
        "                    if isinstance(element, LTTextContainer):\n",
        "                        for text_line in element:\n",
        "                            if isinstance(text_line, LTTextLine):\n",
        "                                current_text = \"\"\n",
        "                                last_char_data = None\n",
        "                                for character in text_line:\n",
        "                                    if isinstance(character, LTChar):\n",
        "                                        current_text += character.get_text()\n",
        "                                        if last_char_data is None:\n",
        "                                            last_char_data = {'x': character.bbox[0], 'y': character.bbox[1], 'font': character.fontname, 'size': character.size}\n",
        "                                if current_text and last_char_data:\n",
        "                                    data = last_char_data\n",
        "                                    data['text'] = current_text\n",
        "                                    project_data['text_blocks'].append(data)\n",
        "                    elif isinstance(element, LTLine):\n",
        "                        project_data['lines'].append({'x0': element.bbox[0], 'y0': element.bbox[1], 'x1': element.bbox[2], 'y1': element.bbox[3], 'width': element.linewidth })\n",
        "                    elif isinstance(element, LTRect):\n",
        "                        project_data['rects'].append({'x0': element.bbox[0], 'y0': element.bbox[1], 'x1': element.bbox[2], 'y1': element.bbox[3], 'width': element.linewidth })\n",
        "    except Exception as e:\n",
        "        return\n",
        "\n",
        "def extract_images_with_pdfplumber(file_path):\n",
        "    \"\"\"Görselleri çıkarır, dikey çevirir ve ReportLab Y koordinatını hesaplar.\"\"\"\n",
        "\n",
        "    temp_dir = 'temp_images'\n",
        "    os.makedirs(temp_dir, exist_ok=True)\n",
        "\n",
        "    try:\n",
        "        with pdfplumber.open(file_path) as pdf:\n",
        "            page = pdf.pages[0]\n",
        "\n",
        "            for img_data in page.images:\n",
        "                x0, y0, x1, y1 = img_data['x0'], img_data['y0'], img_data['x1'], img_data['y1']\n",
        "\n",
        "                if 'stream' in img_data:\n",
        "                    img_bytes = img_data['stream'].get_data()\n",
        "                    temp_filename = os.path.join(temp_dir, f\"img_{len(project_data['images'])}.png\")\n",
        "\n",
        "                    image = Image.open(io.BytesIO(img_bytes))\n",
        "\n",
        "\n",
        "                    image = image.transpose(Image.FLIP_TOP_BOTTOM)\n",
        "\n",
        "                    image.save(temp_filename)\n",
        "\n",
        "                    y_reportlab = y0\n",
        "\n",
        "                    project_data['images'].append({\n",
        "                        'x': x0,\n",
        "                        'y': y_reportlab,\n",
        "                        'width': x1 - x0,\n",
        "                        'height': y1 - y0,\n",
        "                        'file': temp_filename\n",
        "                    })\n",
        "\n",
        "    except Exception as e:\n",
        "        print(f\"pdfplumber ile görsel çıkarılırken hata: {e}\")\n",
        "\n",
        "\n",
        "def create_output_pdf_birebir_final(output_file):\n",
        "\n",
        "    c = canvas.Canvas(output_file, pagesize=(page_w, page_h))\n",
        "    c.setStrokeColor(black)\n",
        "    c.setFillColor(black)\n",
        "\n",
        "    MIN_LINE_LENGTH = 10\n",
        "    for line in project_data.get('lines', []):\n",
        "        length = max(abs(line['x1'] - line['x0']), abs(line['y1'] - line['y0']))\n",
        "        if length >= MIN_LINE_LENGTH:\n",
        "            c.setLineWidth(line['width'] if line['width'] > 0 else 0.5)\n",
        "            c.line(line['x0'], line['y0'], line['x1'], line['y1'])\n",
        "\n",
        "    for rect in project_data.get('rects', []):\n",
        "        x, y, x1, y1 = rect['x0'], rect['y0'], rect['x1'], rect['y1']\n",
        "        width = x1 - x\n",
        "        height = y1 - y\n",
        "        if width > 5 or height > 5:\n",
        "            c.setLineWidth(rect['width'] if rect['width'] > 0 else 0.5)\n",
        "            c.rect(x, y, width, height, stroke=1, fill=0)\n",
        "\n",
        "    for img in project_data.get('images', []):\n",
        "\n",
        "        try:\n",
        "            c.drawImage(\n",
        "                img['file'],\n",
        "                img['x'],\n",
        "                img['y'],\n",
        "                width=img['width'],\n",
        "                height=img['height'],\n",
        "                mask='auto'\n",
        "            )\n",
        "        except Exception as e:\n",
        "            print(f\"Görsel çiziminde hata (X: {img['x']:.2f}, Y: {img['y']:.2f}): {e}\")\n",
        "\n",
        "    for block in project_data.get('text_blocks', []):\n",
        "        x, y, font_name, font_size, text = block['x'], block['y'], block['font'], block['size'], block['text']\n",
        "\n",
        "        reportlab_font = 'Helvetica'\n",
        "        normalized_name = font_name.upper()\n",
        "        for key, value in FONT_MAPPING.items():\n",
        "            if key in normalized_name:\n",
        "                reportlab_font = value\n",
        "                break\n",
        "\n",
        "        c.setFillColor(black)\n",
        "        c.setFont(reportlab_font, font_size)\n",
        "        c.drawString(x, y, text)\n",
        "\n",
        "    c.save()\n",
        "    shutil.rmtree('temp_images', ignore_errors=True)\n",
        "    return output_file\n",
        "\n",
        "print(\"--- NİHAİ UYGULAMA BAŞLIYOR ---\")\n",
        "if get_page_dimensions(PDF_INPUT_FILE):\n",
        "    extract_all_structural_elements(PDF_INPUT_FILE)\n",
        "    extract_images_with_pdfplumber(PDF_INPUT_FILE)\n",
        "\n",
        "    if page_w != 0 and page_h != 0:\n",
        "        print(f\"Sayfa Boyutları: {page_w:.2f} x {page_h:.2f}\")\n",
        "        print(f\"Görsel Sayısı: {len(project_data['images'])}\")\n",
        "\n",
        "        if project_data['images']:\n",
        "             print(f\"İlk Görselin NİHAİ ReportLab Y Konumu: {project_data['images'][0]['y']:.2f}\")\n",
        "\n",
        "        print(\"\\n--- AŞAMA 3: NİHAİ SENILE ÜRETİM BAŞLIYOR ---\")\n",
        "        try:\n",
        "            output_file_name = create_output_pdf_birebir_final(PDF_OUTPUT_FILE)\n",
        "\n",
        "            print(f\"\\n✅ NİHAİ BAŞARI: Senile replikasyon '{output_file_name}' ile tamamlandı.\")\n",
        "            print(\"Görsel konum (Y ekseni) ReportLab'e göre yeniden düzeltilmiştir.\")\n",
        "\n",
        "            from google.colab import files\n",
        "            files.download(output_file_name)\n",
        "\n",
        "        except Exception as e:\n",
        "            print(f\"ReportLab ile PDF oluşturulurken kritik bir hata oluştu: {e}\")\n",
        "    else:\n",
        "        print(\"HATA: Boyutlar sıfır döndü. İşleme devam edilemiyor.\")\n",
        "else:\n",
        "    print(\"HATA: Boyutlar çıkarılamadığı için işleme devam edilemiyor.\")"
      ],
      "metadata": {
        "colab": {
          "base_uri": "https://localhost:8080/",
          "height": 191
        },
        "id": "ux86pJqXKcZh",
        "outputId": "fbd4c23f-859e-4d20-ba6e-124663a0d471"
      },
      "execution_count": null,
      "outputs": [
        {
          "output_type": "stream",
          "name": "stdout",
          "text": [
            "--- NİHAİ UYGULAMA BAŞLIYOR ---\n",
            "Sayfa Boyutları: 595.50 x 842.25\n",
            "Görsel Sayısı: 2\n",
            "İlk Görselin NİHAİ ReportLab Y Konumu: 593.26\n",
            "\n",
            "--- AŞAMA 3: NİHAİ SENILE ÜRETİM BAŞLIYOR ---\n",
            "PDF dosyası 'output_birebir_FINAL_V6.pdf' başarıyla oluşturuldu.\n",
            "\n",
            "✅ NİHAİ BAŞARI: Senile replikasyon 'output_birebir_FINAL_V6.pdf' ile tamamlandı.\n",
            "Görsel konum (Y ekseni) ReportLab'e göre yeniden düzeltilmiştir.\n"
          ]
        },
        {
          "output_type": "display_data",
          "data": {
            "text/plain": [
              "<IPython.core.display.Javascript object>"
            ],
            "application/javascript": [
              "\n",
              "    async function download(id, filename, size) {\n",
              "      if (!google.colab.kernel.accessAllowed) {\n",
              "        return;\n",
              "      }\n",
              "      const div = document.createElement('div');\n",
              "      const label = document.createElement('label');\n",
              "      label.textContent = `Downloading \"${filename}\": `;\n",
              "      div.appendChild(label);\n",
              "      const progress = document.createElement('progress');\n",
              "      progress.max = size;\n",
              "      div.appendChild(progress);\n",
              "      document.body.appendChild(div);\n",
              "\n",
              "      const buffers = [];\n",
              "      let downloaded = 0;\n",
              "\n",
              "      const channel = await google.colab.kernel.comms.open(id);\n",
              "      // Send a message to notify the kernel that we're ready.\n",
              "      channel.send({})\n",
              "\n",
              "      for await (const message of channel.messages) {\n",
              "        // Send a message to notify the kernel that we're ready.\n",
              "        channel.send({})\n",
              "        if (message.buffers) {\n",
              "          for (const buffer of message.buffers) {\n",
              "            buffers.push(buffer);\n",
              "            downloaded += buffer.byteLength;\n",
              "            progress.value = downloaded;\n",
              "          }\n",
              "        }\n",
              "      }\n",
              "      const blob = new Blob(buffers, {type: 'application/binary'});\n",
              "      const a = document.createElement('a');\n",
              "      a.href = window.URL.createObjectURL(blob);\n",
              "      a.download = filename;\n",
              "      div.appendChild(a);\n",
              "      a.click();\n",
              "      div.remove();\n",
              "    }\n",
              "  "
            ]
          },
          "metadata": {}
        },
        {
          "output_type": "display_data",
          "data": {
            "text/plain": [
              "<IPython.core.display.Javascript object>"
            ],
            "application/javascript": [
              "download(\"download_2017e548-f1b3-4fb0-a839-617f128e7d0d\", \"output_birebir_FINAL_V6.pdf\", 64182)"
            ]
          },
          "metadata": {}
        }
      ]
    },
    {
      "cell_type": "code",
      "source": [],
      "metadata": {
        "id": "RVtKRsNSKlHp"
      },
      "execution_count": null,
      "outputs": []
    }
  ]
}